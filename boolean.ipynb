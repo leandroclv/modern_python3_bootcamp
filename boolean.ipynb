{
 "cells": [
  {
   "cell_type": "code",
   "execution_count": 2,
   "metadata": {},
   "outputs": [],
   "source": [
    "#Conditional Statements\n",
    "#If some condition is True:\n",
    "    #Do somethinng\n",
    "#elif some other condition is True:\n",
    "    #do something\n",
    "#else:\n",
    "    #do something"
   ]
  },
  {
   "cell_type": "code",
   "execution_count": 3,
   "metadata": {},
   "outputs": [
    {
     "name": "stdout",
     "output_type": "stream",
     "text": [
      "Valar Morghulis\n"
     ]
    }
   ],
   "source": [
    "name = input('What\\'s your name: ')\n",
    "if name == 'Arya Stark':\n",
    "    print('Valar Morghulis')\n",
    "elif name == 'Jon Snow':\n",
    "    print('You know nothing')\n",
    "else:\n",
    "    print('Carry on')"
   ]
  },
  {
   "cell_type": "code",
   "execution_count": 11,
   "metadata": {},
   "outputs": [
    {
     "name": "stdout",
     "output_type": "stream",
     "text": [
      "The number 650 is even\n"
     ]
    }
   ],
   "source": [
    "from random import randint\n",
    "num  = randint(1, 1000)\n",
    "if num % 2 != 0:\n",
    "    print(f'The number {num} is odd')\n",
    "else:\n",
    "    print(f'The number {num} is even')"
   ]
  },
  {
   "cell_type": "code",
   "execution_count": 12,
   "metadata": {},
   "outputs": [
    {
     "name": "stdout",
     "output_type": "stream",
     "text": [
      "Your monster\n"
     ]
    }
   ],
   "source": [
    "color = input('What\\'s your favorite color?')\n",
    "if color == 'purple':\n",
    "    print('Excellent choice!')\n",
    "elif color == 'teal':\n",
    "    print('Not bad!')\n",
    "elif color == 'seafoam':\n",
    "    print('mediocre')\n",
    "elif color == 'pure darkness':\n",
    "    print('I like how you think')\n",
    "else:\n",
    "    print('Your monster')"
   ]
  },
  {
   "cell_type": "code",
   "execution_count": null,
   "metadata": {},
   "outputs": [],
   "source": []
  }
 ],
 "metadata": {
  "kernelspec": {
   "display_name": "base",
   "language": "python",
   "name": "python3"
  },
  "language_info": {
   "codemirror_mode": {
    "name": "ipython",
    "version": 3
   },
   "file_extension": ".py",
   "mimetype": "text/x-python",
   "name": "python",
   "nbconvert_exporter": "python",
   "pygments_lexer": "ipython3",
   "version": "3.11.7"
  }
 },
 "nbformat": 4,
 "nbformat_minor": 2
}
