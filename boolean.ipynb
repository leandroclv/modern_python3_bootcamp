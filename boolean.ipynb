{
 "cells": [
  {
   "cell_type": "code",
   "execution_count": 16,
   "metadata": {},
   "outputs": [],
   "source": [
    "#Conditional Statements\n",
    "#If some condition is True:\n",
    "    #Do somethinng\n",
    "#elif some other condition is True:\n",
    "    #do something\n",
    "#else:\n",
    "    #do something"
   ]
  },
  {
   "cell_type": "code",
   "execution_count": 17,
   "metadata": {},
   "outputs": [
    {
     "name": "stdout",
     "output_type": "stream",
     "text": [
      "Carry on\n"
     ]
    }
   ],
   "source": [
    "name = input('What\\'s your name: ')\n",
    "if name == 'Arya Stark':\n",
    "    print('Valar Morghulis')\n",
    "elif name == 'Jon Snow':\n",
    "    print('You know nothing')\n",
    "else:\n",
    "    print('Carry on')"
   ]
  },
  {
   "cell_type": "code",
   "execution_count": 18,
   "metadata": {},
   "outputs": [
    {
     "name": "stdout",
     "output_type": "stream",
     "text": [
      "The number 933 is odd\n"
     ]
    }
   ],
   "source": [
    "from random import randint\n",
    "num  = randint(1, 1000)\n",
    "if num % 2 != 0:\n",
    "    print(f'The number {num} is odd')\n",
    "else:\n",
    "    print(f'The number {num} is even')"
   ]
  },
  {
   "cell_type": "code",
   "execution_count": 19,
   "metadata": {},
   "outputs": [
    {
     "name": "stdout",
     "output_type": "stream",
     "text": [
      "Your monster\n"
     ]
    }
   ],
   "source": [
    "color = input('What\\'s your favorite color?')\n",
    "if color == 'purple':\n",
    "    print('Excellent choice!')\n",
    "elif color == 'teal':\n",
    "    print('Not bad!')\n",
    "elif color == 'seafoam':\n",
    "    print('mediocre')\n",
    "elif color == 'pure darkness':\n",
    "    print('I like how you think')\n",
    "else:\n",
    "    print('Your monster')"
   ]
  },
  {
   "cell_type": "code",
   "execution_count": 20,
   "metadata": {},
   "outputs": [
    {
     "name": "stderr",
     "output_type": "stream",
     "text": [
      "<>:2: SyntaxWarning: \"is\" with a literal. Did you mean \"==\"?\n",
      "<>:3: SyntaxWarning: \"is\" with a literal. Did you mean \"==\"?\n",
      "<>:2: SyntaxWarning: \"is\" with a literal. Did you mean \"==\"?\n",
      "<>:3: SyntaxWarning: \"is\" with a literal. Did you mean \"==\"?\n",
      "/tmp/ipykernel_58584/4188041775.py:2: SyntaxWarning: \"is\" with a literal. Did you mean \"==\"?\n",
      "  x is 1\n",
      "/tmp/ipykernel_58584/4188041775.py:3: SyntaxWarning: \"is\" with a literal. Did you mean \"==\"?\n",
      "  x is 0\n"
     ]
    },
    {
     "data": {
      "text/plain": [
       "False"
      ]
     },
     "execution_count": 20,
     "metadata": {},
     "output_type": "execute_result"
    }
   ],
   "source": [
    "x = 1\n",
    "x is 1\n",
    "x is 0"
   ]
  },
  {
   "cell_type": "code",
   "execution_count": 21,
   "metadata": {},
   "outputs": [
    {
     "data": {
      "text/plain": [
       "True"
      ]
     },
     "execution_count": 21,
     "metadata": {},
     "output_type": "execute_result"
    }
   ],
   "source": [
    "1 == 1 # True\n",
    "1 == 2 # False\n",
    "'a' == 'A' #False\n",
    "1 != 1 #False\n",
    "1 < 3 # True\n",
    "-100 > -200 #True\n",
    "'A' > 'a'#True\n",
    "'b' > 'a' #True"
   ]
  },
  {
   "cell_type": "code",
   "execution_count": 22,
   "metadata": {},
   "outputs": [
    {
     "name": "stdout",
     "output_type": "stream",
     "text": [
      "you live somewhere else\n"
     ]
    }
   ],
   "source": [
    "city = input('where do you live?')\n",
    "if city == 'los angeles' or city == 'san francisco':\n",
    "    print('you live in California')\n",
    "else:\n",
    "    print('you live somewhere else')"
   ]
  },
  {
   "cell_type": "code",
   "execution_count": null,
   "metadata": {},
   "outputs": [],
   "source": []
  }
 ],
 "metadata": {
  "kernelspec": {
   "display_name": "base",
   "language": "python",
   "name": "python3"
  },
  "language_info": {
   "codemirror_mode": {
    "name": "ipython",
    "version": 3
   },
   "file_extension": ".py",
   "mimetype": "text/x-python",
   "name": "python",
   "nbconvert_exporter": "python",
   "pygments_lexer": "ipython3",
   "version": "3.11.7"
  }
 },
 "nbformat": 4,
 "nbformat_minor": 2
}
