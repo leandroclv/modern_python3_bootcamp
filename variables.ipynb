{
 "cells": [
  {
   "cell_type": "code",
   "execution_count": 2,
   "metadata": {},
   "outputs": [
    {
     "name": "stdout",
     "output_type": "stream",
     "text": [
      "101\n"
     ]
    }
   ],
   "source": [
    "x  = 100\n",
    "khaleesi_mother_of_dargons = 1\n",
    "print(x + khaleesi_mother_of_dargons)"
   ]
  },
  {
   "cell_type": "code",
   "execution_count": 1,
   "metadata": {},
   "outputs": [
    {
     "name": "stdout",
     "output_type": "stream",
     "text": [
      "99\n",
      "198\n",
      "99\n"
     ]
    }
   ],
   "source": [
    "num_of_cats = 99\n",
    "print(num_of_cats)\n",
    "print(num_of_cats * 2)\n",
    "print(num_of_cats)"
   ]
  },
  {
   "cell_type": "code",
   "execution_count": 3,
   "metadata": {},
   "outputs": [
    {
     "name": "stdout",
     "output_type": "stream",
     "text": [
      "100\n",
      "100\n",
      "1337\n",
      "5\n",
      "10\n",
      "15\n"
     ]
    }
   ],
   "source": [
    "python_is_awesome = 100\n",
    "just_another_var = python_is_awesome\n",
    "print(python_is_awesome)\n",
    "print(just_another_var)\n",
    "python_is_awesome = 1337\n",
    "print(python_is_awesome)\n",
    "all, at, once = 5, 10, 15\n",
    "print(all)\n",
    "print(at)\n",
    "print(once)"
   ]
  },
  {
   "cell_type": "code",
   "execution_count": 4,
   "metadata": {},
   "outputs": [
    {
     "name": "stdout",
     "output_type": "stream",
     "text": [
      "98\n",
      "97\n"
     ]
    }
   ],
   "source": [
    "num_of_cats = 99\n",
    "num_of_cats = num_of_cats - 1\n",
    "print(num_of_cats)\n",
    "num_of_cats -= 1\n",
    "print(num_of_cats)"
   ]
  },
  {
   "cell_type": "code",
   "execution_count": 5,
   "metadata": {},
   "outputs": [
    {
     "name": "stdout",
     "output_type": "stream",
     "text": [
      "3973464935797.5977\n"
     ]
    }
   ],
   "source": [
    "cash = 19867324678987.99\n",
    "cash /= 5\n",
    "print(cash)"
   ]
  },
  {
   "cell_type": "code",
   "execution_count": 6,
   "metadata": {},
   "outputs": [
    {
     "name": "stdout",
     "output_type": "stream",
     "text": [
      "Hello \n",
      "World!\n"
     ]
    }
   ],
   "source": [
    "new_line = 'Hello \\nWorld!'\n",
    "print(new_line)"
   ]
  },
  {
   "cell_type": "code",
   "execution_count": 7,
   "metadata": {},
   "outputs": [
    {
     "name": "stdout",
     "output_type": "stream",
     "text": [
      "this is a backslash: \\\n"
     ]
    }
   ],
   "source": [
    "str = 'this is a backslash: \\\\'\n",
    "print(str)"
   ]
  },
  {
   "cell_type": "code",
   "execution_count": 8,
   "metadata": {},
   "outputs": [
    {
     "name": "stdout",
     "output_type": "stream",
     "text": [
      "Meu nome é \"Leandro\"\n"
     ]
    }
   ],
   "source": [
    "quote = 'Meu nome é \"Leandro\"'\n",
    "print(quote)"
   ]
  },
  {
   "cell_type": "code",
   "execution_count": 9,
   "metadata": {},
   "outputs": [
    {
     "name": "stdout",
     "output_type": "stream",
     "text": [
      "Meu nome é 'Leandro'\n"
     ]
    }
   ],
   "source": [
    "quote2 = 'Meu nome é \\'Leandro\\''\n",
    "print(quote2)"
   ]
  },
  {
   "cell_type": "code",
   "execution_count": 15,
   "metadata": {},
   "outputs": [
    {
     "name": "stdout",
     "output_type": "stream",
     "text": [
      "Hi \n",
      "There\n",
      "/\\/\\/\\\n",
      "My name is \"Leandro\"\n"
     ]
    }
   ],
   "source": [
    "# Set the message variable equal to any string containing a new-line escape sequence\n",
    "message = \"Hi \\nThere\"\n",
    "print(message)\n",
    "\n",
    "\n",
    "# Add a string to the mountains variable that when printed results in: /\\/\\/\\\n",
    "# You will need to use an escape sequence more than once!\n",
    "mountains = \"/\\\\/\\\\/\\\\\"\n",
    "print(mountains)\n",
    "\n",
    "\n",
    "# Set the quotation variable to any string that contains an escaped double quotation mark\n",
    "\n",
    "quotation = \"My name is \\\"Leandro\\\"\"\n",
    "print(quotation)"
   ]
  },
  {
   "cell_type": "code",
   "execution_count": 16,
   "metadata": {},
   "outputs": [
    {
     "name": "stdout",
     "output_type": "stream",
     "text": [
      "Your Name\n"
     ]
    }
   ],
   "source": [
    "str_one = 'Your'\n",
    "str_two = 'Name'\n",
    "str_three = str_one + ' ' + str_two\n",
    "print(str_three)"
   ]
  },
  {
   "cell_type": "code",
   "execution_count": 18,
   "metadata": {},
   "outputs": [
    {
     "name": "stdout",
     "output_type": "stream",
     "text": [
      "ice cream\n"
     ]
    }
   ],
   "source": [
    "str_one = 'ice'\n",
    "str_one += ' cream'\n",
    "print(str_one)"
   ]
  },
  {
   "cell_type": "code",
   "execution_count": 19,
   "metadata": {},
   "outputs": [
    {
     "name": "stdout",
     "output_type": "stream",
     "text": [
      "I've told you 10 times already!\n"
     ]
    }
   ],
   "source": [
    "x = 10\n",
    "print(f'I\\'ve told you {x} times already!')"
   ]
  },
  {
   "cell_type": "code",
   "execution_count": null,
   "metadata": {},
   "outputs": [
    {
     "name": "stdout",
     "output_type": "stream",
     "text": [
      "n\n",
      "o\n"
     ]
    }
   ],
   "source": [
    "name = 'Leandro' #lembre-se que o index das strings começa sempre com o 0\n",
    "print(name[3])\n",
    "print(name[-1]) #o sinal negativo indica que a contagem do index será de trás para frente"
   ]
  },
  {
   "cell_type": "code",
   "execution_count": null,
   "metadata": {},
   "outputs": [
    {
     "name": "stdout",
     "output_type": "stream",
     "text": [
      "How many kilometers did you cycle today?\n",
      "Ok, you say 18.64 miles\n"
     ]
    }
   ],
   "source": [
    "print('How many kilometers did you cycle today?')\n",
    "kms = input()  #O input sempre retorna uma string\n",
    "miles = float(kms)/1.60934\n",
    "print(f'Your {kms}km ride is {miles:.2f} miles')"
   ]
  }
 ],
 "metadata": {
  "kernelspec": {
   "display_name": "base",
   "language": "python",
   "name": "python3"
  },
  "language_info": {
   "codemirror_mode": {
    "name": "ipython",
    "version": 3
   },
   "file_extension": ".py",
   "mimetype": "text/x-python",
   "name": "python",
   "nbconvert_exporter": "python",
   "pygments_lexer": "ipython3",
   "version": "3.11.7"
  }
 },
 "nbformat": 4,
 "nbformat_minor": 2
}
